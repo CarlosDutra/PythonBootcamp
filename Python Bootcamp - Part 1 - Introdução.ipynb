{
 "cells": [
  {
   "cell_type": "markdown",
   "metadata": {},
   "source": [
    "# Bootcamp Introdução ao Python\n",
    "\n",
    "## Introdução\n",
    "\n",
    "Neste notebook iremos apresentar alguns comandos básicos em Python. Você pode executá-los nesse *Jupyter Notebook* ou em ambiente *Spyder*.\n",
    "\n",
    "Antes de começar, vale a leitura do texto *The Zen of Python*, que resume os princípios da linguagem."
   ]
  },
  {
   "cell_type": "code",
   "execution_count": 88,
   "metadata": {
    "collapsed": true
   },
   "outputs": [],
   "source": [
    "import this"
   ]
  },
  {
   "cell_type": "markdown",
   "metadata": {},
   "source": [
    "Iremos primeiramente definir algumas variáveis e realizar as primeiras operações matemáticas. Utilizaremos a função `print` para impressão dos dados na tela."
   ]
  },
  {
   "cell_type": "code",
   "execution_count": 89,
   "metadata": {
    "scrolled": false
   },
   "outputs": [
    {
     "name": "stdout",
     "output_type": "stream",
     "text": [
      "a = 15\n",
      "c = 38\n",
      "d = -8\n",
      "e = -8\n",
      "f = 0.6521739130434783\n",
      "Hello\n",
      "Hello World\n",
      "HelloHello\n"
     ]
    }
   ],
   "source": [
    "a = 15\n",
    "print(\"a =\", a)\n",
    "b = 23\n",
    "c = a + b\n",
    "print(\"c =\", c)\n",
    "d = a - b\n",
    "print(\"d =\", d)\n",
    "e = a * b\n",
    "print(\"e =\", d)\n",
    "f = a / b\n",
    "print(\"f =\", f)\n",
    "g = \"Hello\"\n",
    "h = \" World\"\n",
    "print(g)\n",
    "print(g+h)\n",
    "print(2*g)\n"
   ]
  },
  {
   "cell_type": "markdown",
   "metadata": {},
   "source": [
    "O Python permite ainda a utilização de operadores lógicos e de comparação, como abaixo."
   ]
  },
  {
   "cell_type": "code",
   "execution_count": 90,
   "metadata": {},
   "outputs": [
    {
     "data": {
      "text/plain": [
       "False"
      ]
     },
     "execution_count": 90,
     "metadata": {},
     "output_type": "execute_result"
    }
   ],
   "source": [
    "1 == 2"
   ]
  },
  {
   "cell_type": "code",
   "execution_count": 91,
   "metadata": {},
   "outputs": [
    {
     "data": {
      "text/plain": [
       "True"
      ]
     },
     "execution_count": 91,
     "metadata": {},
     "output_type": "execute_result"
    }
   ],
   "source": [
    "1 == 1"
   ]
  },
  {
   "cell_type": "code",
   "execution_count": 92,
   "metadata": {},
   "outputs": [
    {
     "data": {
      "text/plain": [
       "True"
      ]
     },
     "execution_count": 92,
     "metadata": {},
     "output_type": "execute_result"
    }
   ],
   "source": [
    "2 > 1"
   ]
  },
  {
   "cell_type": "code",
   "execution_count": 93,
   "metadata": {},
   "outputs": [
    {
     "data": {
      "text/plain": [
       "True"
      ]
     },
     "execution_count": 93,
     "metadata": {},
     "output_type": "execute_result"
    }
   ],
   "source": [
    "2.1 >= 2.0"
   ]
  },
  {
   "cell_type": "markdown",
   "metadata": {},
   "source": [
    "## Entrada de Dados\n",
    "\n",
    "É possível criar um programa que recebe dados e *input* do usuário. Para isso podemos utilizar a função `raw_input`, como abaixo:"
   ]
  },
  {
   "cell_type": "code",
   "execution_count": 94,
   "metadata": {},
   "outputs": [
    {
     "name": "stdout",
     "output_type": "stream",
     "text": [
      "Digite algo, será salvo na variável entrada \ta\n"
     ]
    }
   ],
   "source": [
    "entrada = input(\"Digite algo, será salvo na variável entrada \\t\")"
   ]
  },
  {
   "cell_type": "code",
   "execution_count": 95,
   "metadata": {},
   "outputs": [
    {
     "name": "stdout",
     "output_type": "stream",
     "text": [
      "a\n"
     ]
    }
   ],
   "source": [
    "print(entrada)"
   ]
  },
  {
   "cell_type": "markdown",
   "metadata": {},
   "source": [
    "## Tipos de Variáveis\n",
    "\n",
    "O Python trabalha com diversos formatos de dados, ou tipos de variáveis, dentre elas números, textos, tabelas, listas. Veremos agora como identificar os principais tipos e realizar as conversões necessárias entre eles.\n",
    "\n",
    "A função `type` permite a identificação do tipo de variável."
   ]
  },
  {
   "cell_type": "code",
   "execution_count": 96,
   "metadata": {},
   "outputs": [
    {
     "data": {
      "text/plain": [
       "int"
      ]
     },
     "execution_count": 96,
     "metadata": {},
     "output_type": "execute_result"
    }
   ],
   "source": [
    "type(a)"
   ]
  },
  {
   "cell_type": "code",
   "execution_count": 97,
   "metadata": {},
   "outputs": [
    {
     "data": {
      "text/plain": [
       "float"
      ]
     },
     "execution_count": 97,
     "metadata": {},
     "output_type": "execute_result"
    }
   ],
   "source": [
    "type(f)"
   ]
  },
  {
   "cell_type": "code",
   "execution_count": 98,
   "metadata": {},
   "outputs": [
    {
     "data": {
      "text/plain": [
       "str"
      ]
     },
     "execution_count": 98,
     "metadata": {},
     "output_type": "execute_result"
    }
   ],
   "source": [
    "type(g)"
   ]
  },
  {
   "cell_type": "markdown",
   "metadata": {},
   "source": [
    "A conversão de tipos em Python é feita através de funções específicas."
   ]
  },
  {
   "cell_type": "code",
   "execution_count": 99,
   "metadata": {},
   "outputs": [
    {
     "data": {
      "text/plain": [
       "22"
      ]
     },
     "execution_count": 99,
     "metadata": {},
     "output_type": "execute_result"
    }
   ],
   "source": [
    "#Converte texto para inteiro\n",
    "int('22')"
   ]
  },
  {
   "cell_type": "code",
   "execution_count": 100,
   "metadata": {},
   "outputs": [
    {
     "data": {
      "text/plain": [
       "22.2"
      ]
     },
     "execution_count": 100,
     "metadata": {},
     "output_type": "execute_result"
    }
   ],
   "source": [
    "#Converte texto para float\n",
    "float('22.2')"
   ]
  },
  {
   "cell_type": "code",
   "execution_count": 101,
   "metadata": {
    "scrolled": false
   },
   "outputs": [
    {
     "data": {
      "text/plain": [
       "'22'"
      ]
     },
     "execution_count": 101,
     "metadata": {},
     "output_type": "execute_result"
    }
   ],
   "source": [
    "#Converte número para texto\n",
    "str(22)"
   ]
  },
  {
   "cell_type": "markdown",
   "metadata": {},
   "source": [
    "Um outro tipo importante é a *lista*, que consiste em um vetor ordenado de dados, que facilita em diversas operações que utilizam informações diferentes"
   ]
  },
  {
   "cell_type": "code",
   "execution_count": 102,
   "metadata": {},
   "outputs": [
    {
     "name": "stdout",
     "output_type": "stream",
     "text": [
      "15\n"
     ]
    }
   ],
   "source": [
    "i = [2, 4, 5, 78, 1, 105]\n",
    "print(a)"
   ]
  },
  {
   "cell_type": "markdown",
   "metadata": {},
   "source": [
    "É possível acessar os elementos de listas através de seu índice."
   ]
  },
  {
   "cell_type": "code",
   "execution_count": 103,
   "metadata": {},
   "outputs": [
    {
     "data": {
      "text/plain": [
       "5"
      ]
     },
     "execution_count": 103,
     "metadata": {},
     "output_type": "execute_result"
    }
   ],
   "source": [
    "i[2]"
   ]
  },
  {
   "cell_type": "markdown",
   "metadata": {},
   "source": [
    "Podemos também selecionar trechos de índices."
   ]
  },
  {
   "cell_type": "code",
   "execution_count": 104,
   "metadata": {},
   "outputs": [
    {
     "data": {
      "text/plain": [
       "[78, 1, 105]"
      ]
     },
     "execution_count": 104,
     "metadata": {},
     "output_type": "execute_result"
    }
   ],
   "source": [
    "i[3:]"
   ]
  },
  {
   "cell_type": "markdown",
   "metadata": {},
   "source": [
    "E extrair informações importantes das listas."
   ]
  },
  {
   "cell_type": "code",
   "execution_count": 105,
   "metadata": {},
   "outputs": [
    {
     "data": {
      "text/plain": [
       "6"
      ]
     },
     "execution_count": 105,
     "metadata": {},
     "output_type": "execute_result"
    }
   ],
   "source": [
    "len(i)"
   ]
  },
  {
   "cell_type": "code",
   "execution_count": 106,
   "metadata": {},
   "outputs": [
    {
     "data": {
      "text/plain": [
       "1"
      ]
     },
     "execution_count": 106,
     "metadata": {},
     "output_type": "execute_result"
    }
   ],
   "source": [
    "min(i)"
   ]
  },
  {
   "cell_type": "code",
   "execution_count": 107,
   "metadata": {},
   "outputs": [
    {
     "data": {
      "text/plain": [
       "105"
      ]
     },
     "execution_count": 107,
     "metadata": {},
     "output_type": "execute_result"
    }
   ],
   "source": [
    "max(i)"
   ]
  },
  {
   "cell_type": "markdown",
   "metadata": {},
   "source": [
    "## Métodos\n",
    "\n",
    "As variáveis de Python podem ser encaradas também como objetos, que possuem métodos. Esses são chamados colocando um ponto (`.`) após o nome da lista, e digitando o nome do método. Abaixo alguns exemplos. "
   ]
  },
  {
   "cell_type": "code",
   "execution_count": 108,
   "metadata": {},
   "outputs": [
    {
     "name": "stdout",
     "output_type": "stream",
     "text": [
      "[2, 4, 5, 78, 1, 105]\n"
     ]
    }
   ],
   "source": [
    "i = [2, 4, 5, 78, 1, 105]\n",
    "print(i)"
   ]
  },
  {
   "cell_type": "code",
   "execution_count": 109,
   "metadata": {},
   "outputs": [
    {
     "name": "stdout",
     "output_type": "stream",
     "text": [
      "[1, 2, 4, 5, 78, 105]\n"
     ]
    }
   ],
   "source": [
    "#Ordena a lista\n",
    "i.sort()\n",
    "print(i)"
   ]
  },
  {
   "cell_type": "code",
   "execution_count": 110,
   "metadata": {},
   "outputs": [
    {
     "name": "stdout",
     "output_type": "stream",
     "text": [
      "[105, 78, 5, 4, 2, 1]\n"
     ]
    }
   ],
   "source": [
    "#Em ordem reversa\n",
    "i.reverse()\n",
    "print(i)"
   ]
  },
  {
   "cell_type": "code",
   "execution_count": 111,
   "metadata": {},
   "outputs": [
    {
     "name": "stdout",
     "output_type": "stream",
     "text": [
      "[105, 78, 5, 273, 4, 2, 1]\n",
      "[105, 78, 5, 273, 4, 2, 273, 1]\n"
     ]
    }
   ],
   "source": [
    "#Adiciona um item na posição determinada\n",
    "i.insert(3,273)\n",
    "print(i)\n",
    "i.insert(6,273)\n",
    "print(i)"
   ]
  },
  {
   "cell_type": "code",
   "execution_count": 112,
   "metadata": {},
   "outputs": [
    {
     "data": {
      "text/plain": [
       "2"
      ]
     },
     "execution_count": 112,
     "metadata": {},
     "output_type": "execute_result"
    }
   ],
   "source": [
    "#Adiciona um item na posição determinada\n",
    "i.count(273)"
   ]
  },
  {
   "cell_type": "markdown",
   "metadata": {},
   "source": [
    "A lista de métodos disponíveis no objeto podem ser listadas utilizando o comando `dir`."
   ]
  },
  {
   "cell_type": "code",
   "execution_count": 113,
   "metadata": {},
   "outputs": [
    {
     "data": {
      "text/plain": [
       "['__add__',\n",
       " '__class__',\n",
       " '__contains__',\n",
       " '__delattr__',\n",
       " '__delitem__',\n",
       " '__dir__',\n",
       " '__doc__',\n",
       " '__eq__',\n",
       " '__format__',\n",
       " '__ge__',\n",
       " '__getattribute__',\n",
       " '__getitem__',\n",
       " '__gt__',\n",
       " '__hash__',\n",
       " '__iadd__',\n",
       " '__imul__',\n",
       " '__init__',\n",
       " '__iter__',\n",
       " '__le__',\n",
       " '__len__',\n",
       " '__lt__',\n",
       " '__mul__',\n",
       " '__ne__',\n",
       " '__new__',\n",
       " '__reduce__',\n",
       " '__reduce_ex__',\n",
       " '__repr__',\n",
       " '__reversed__',\n",
       " '__rmul__',\n",
       " '__setattr__',\n",
       " '__setitem__',\n",
       " '__sizeof__',\n",
       " '__str__',\n",
       " '__subclasshook__',\n",
       " 'append',\n",
       " 'clear',\n",
       " 'copy',\n",
       " 'count',\n",
       " 'extend',\n",
       " 'index',\n",
       " 'insert',\n",
       " 'pop',\n",
       " 'remove',\n",
       " 'reverse',\n",
       " 'sort']"
      ]
     },
     "execution_count": 113,
     "metadata": {},
     "output_type": "execute_result"
    }
   ],
   "source": [
    "dir(i)"
   ]
  },
  {
   "cell_type": "markdown",
   "metadata": {
    "collapsed": true
   },
   "source": [
    "## Controle de Fluxos\n",
    "\n",
    "Em Python é possível aplicar os controles de fluxo, que são os componentes mais básicos de programação e permitem a automação de uma série de funções. São eles o `if`, `if-else`, `for`, `while`. Vamos agora aprofundar em cada um."
   ]
  },
  {
   "cell_type": "markdown",
   "metadata": {},
   "source": [
    "### If\n",
    "\n",
    "O `if` é uma função que testa um determinado condicional, caso seja verdadeiro executa a função desejada, caso contrário não faz nada. Em Python sua sintaxe é a seguinte:\n",
    "\n",
    "```\n",
    "if condicao:\n",
    "    operacao1\n",
    "    operacao2\n",
    "```\n",
    "\n",
    "Note que o Python possui uma notação leve, sem parênteses ou chaves, porém o código precisa respeitar a identação."
   ]
  },
  {
   "cell_type": "code",
   "execution_count": 115,
   "metadata": {},
   "outputs": [
    {
     "name": "stdout",
     "output_type": "stream",
     "text": [
      "4\n"
     ]
    }
   ],
   "source": [
    "a = 2\n",
    "if a > 1:\n",
    "    a = a**2\n",
    "print(a)    "
   ]
  },
  {
   "cell_type": "markdown",
   "metadata": {},
   "source": [
    "### If-Else\n",
    "\n",
    "Em alguns casos desejamos também realizar algum tipo de operação quando a condição não é verdadeira, para isso utilizamos o comando `else`, com a seguinte estrutura.\n",
    "\n",
    "```\n",
    "if condicao:\n",
    "    operacao1\n",
    "    operacao2\n",
    "else:\n",
    "    operacao3\n",
    "    operacao4\n",
    "```"
   ]
  },
  {
   "cell_type": "code",
   "execution_count": 116,
   "metadata": {},
   "outputs": [
    {
     "name": "stdout",
     "output_type": "stream",
     "text": [
      "16\n"
     ]
    }
   ],
   "source": [
    "a = 2\n",
    "if a > 2:\n",
    "    a = a**2\n",
    "else:\n",
    "    a = a**4\n",
    "print(a)"
   ]
  },
  {
   "cell_type": "markdown",
   "metadata": {},
   "source": [
    "### For\n",
    "\n",
    "O comando `for` permite que determinadas operações sejam executadas repetidas vezes, respeitando a mudança de uma determinada variável.\n",
    "\n",
    "```\n",
    "for variavel in alguma_coisa:    \n",
    "    operacao1\n",
    "    operacao2\n",
    "```"
   ]
  },
  {
   "cell_type": "code",
   "execution_count": 121,
   "metadata": {},
   "outputs": [
    {
     "name": "stdout",
     "output_type": "stream",
     "text": [
      "0 0\n",
      "1 1\n",
      "2 4\n",
      "3 9\n",
      "4 16\n",
      "5 25\n",
      "6 36\n",
      "7 49\n",
      "8 64\n",
      "9 81\n"
     ]
    }
   ],
   "source": [
    "for i in range(10):\n",
    "    j = i**2\n",
    "    print(i,j)"
   ]
  },
  {
   "cell_type": "markdown",
   "metadata": {},
   "source": [
    "### While\n",
    "\n",
    "Para executar um comando até que um determinado evento ocorra utilizamos o comando `while`. A sintaxe é a seguinte.\n",
    "\n",
    "```  \n",
    "while condicao_verdadeira:\n",
    "    operacao1\n",
    "    operacao2\n",
    "```"
   ]
  },
  {
   "cell_type": "code",
   "execution_count": 122,
   "metadata": {},
   "outputs": [
    {
     "name": "stdout",
     "output_type": "stream",
     "text": [
      "0 0\n",
      "1 1\n",
      "2 4\n",
      "3 9\n",
      "4 16\n",
      "5 25\n",
      "6 36\n",
      "7 49\n",
      "8 64\n",
      "9 81\n"
     ]
    }
   ],
   "source": [
    "i = 0\n",
    "while i < 10:\n",
    "    j = i**2\n",
    "    print(i,j)\n",
    "    i = i+1"
   ]
  },
  {
   "cell_type": "markdown",
   "metadata": {},
   "source": [
    "## Exercício\n",
    "\n",
    "Com todas essas operações é possível calcular a solução de uma equação simples de primeiro grau $y = \\alpha + \\beta x$, e ainda criar uma tabela com alguns pontos da função. Encare como um exercício, abaixo está a solução."
   ]
  },
  {
   "cell_type": "code",
   "execution_count": 124,
   "metadata": {},
   "outputs": [
    {
     "name": "stdout",
     "output_type": "stream",
     "text": [
      "Entre com o parâmetro alpha \t6.5\n",
      "Entre com o parâmetro beta \t4.8\n",
      "0 6.5\n",
      "1 11.3\n",
      "2 16.1\n",
      "3 20.9\n",
      "4 25.7\n",
      "5 30.5\n",
      "6 35.3\n",
      "7 40.1\n",
      "8 44.9\n",
      "9 49.699999999999996\n",
      "Entre com o ponto da variável x \t6.8\n",
      "A solução para 6.8 é  39.14\n"
     ]
    }
   ],
   "source": [
    "#Entrada dos dados\n",
    "alpha = input(\"Entre com o parâmetro alpha \\t\")\n",
    "beta = input(\"Entre com o parâmetro beta \\t\")\n",
    "\n",
    "#Converte para número\n",
    "alpha = float(alpha)\n",
    "beta = float(beta)\n",
    "\n",
    "#Cria tabela de pontos\n",
    "for i in range(10):\n",
    "    j = alpha + beta * i\n",
    "    print(i,j)\n",
    "    \n",
    "x = input(\"Entre com o ponto da variável x \\t\")\n",
    "x = float(x)\n",
    "y = alpha + beta * x\n",
    "print(\"A solução para\", x, \"é \", y)"
   ]
  },
  {
   "cell_type": "code",
   "execution_count": null,
   "metadata": {
    "collapsed": true
   },
   "outputs": [],
   "source": []
  }
 ],
 "metadata": {
  "kernelspec": {
   "display_name": "Python 3",
   "language": "python",
   "name": "python3"
  },
  "language_info": {
   "codemirror_mode": {
    "name": "ipython",
    "version": 3
   },
   "file_extension": ".py",
   "mimetype": "text/x-python",
   "name": "python",
   "nbconvert_exporter": "python",
   "pygments_lexer": "ipython3",
   "version": "3.5.2"
  }
 },
 "nbformat": 4,
 "nbformat_minor": 2
}
